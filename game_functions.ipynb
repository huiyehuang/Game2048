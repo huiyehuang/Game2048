{
 "cells": [
  {
   "cell_type": "code",
   "execution_count": 3,
   "id": "339981c9",
   "metadata": {},
   "outputs": [],
   "source": [
    "import random\n",
    "\n",
    "def initialize_grid():\n",
    "    grid = [[0 for _ in range(4)] for _ in range(4)]\n",
    "    add_new_two(grid)\n",
    "    add_new_two(grid)\n",
    "    return grid\n",
    "\n",
    "def add_new_two(grid):\n",
    "    empty_cells = [(r, c) for r in range(4) for c in range(4) if grid[r][c] == 0]\n",
    "    if empty_cells:\n",
    "        row, col = random.choice(empty_cells)\n",
    "        grid[row][col] = 2\n",
    "\n",
    "def move_cells(grid, direction):\n",
    "    def move_row_left(row):\n",
    "        new_row = [i for i in row if i != 0]\n",
    "        for i in range(len(new_row) - 1):\n",
    "            if new_row[i] == new_row[i + 1]:\n",
    "                new_row[i] *= 2\n",
    "                new_row[i + 1] = 0\n",
    "        new_row = [i for i in new_row if i != 0]\n",
    "        return new_row + [0] * (4 - len(new_row))\n",
    "\n",
    "    moves = {\n",
    "        'w': lambda grid: [list(row) for row in zip(*[move_row_left(list(col)) for col in zip(*grid)])],\n",
    "        's': lambda grid: [list(row) for row in zip(*[move_row_left(list(col)[::-1])[::-1] for col in zip(*grid)])],\n",
    "        'a': lambda grid: [move_row_left(row) for row in grid],\n",
    "        'd': lambda grid: [move_row_left(row[::-1])[::-1] for row in grid]\n",
    "    }\n",
    "\n",
    "    if direction in moves:\n",
    "        return moves[direction](grid)\n",
    "    else:\n",
    "        return grid\n",
    "\n",
    "def check_game_over(grid):\n",
    "    for row in grid:\n",
    "        if 0 in row or any(row[i] == row[i + 1] for i in range(3)):\n",
    "            return False\n",
    "    for col in zip(*grid):\n",
    "        if any(col[i] == col[i + 1] for i in range(3)):\n",
    "            return False\n",
    "    return True\n",
    "\n",
    "def print_grid(grid):\n",
    "    for row in grid:\n",
    "        print('\\t'.join(str(cell) if cell != 0 else '.' for cell in row))\n",
    "    print()\n"
   ]
  },
  {
   "cell_type": "code",
   "execution_count": null,
   "id": "986b0bc5",
   "metadata": {},
   "outputs": [],
   "source": []
  },
  {
   "cell_type": "code",
   "execution_count": null,
   "id": "21bbfa19",
   "metadata": {},
   "outputs": [],
   "source": []
  }
 ],
 "metadata": {
  "kernelspec": {
   "display_name": "Python 3 (ipykernel)",
   "language": "python",
   "name": "python3"
  },
  "language_info": {
   "codemirror_mode": {
    "name": "ipython",
    "version": 3
   },
   "file_extension": ".py",
   "mimetype": "text/x-python",
   "name": "python",
   "nbconvert_exporter": "python",
   "pygments_lexer": "ipython3",
   "version": "3.9.12"
  }
 },
 "nbformat": 4,
 "nbformat_minor": 5
}
